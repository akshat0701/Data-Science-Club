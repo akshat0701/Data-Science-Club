{
 "cells": [
  {
   "cell_type": "code",
   "execution_count": 20,
   "id": "46790399-99bc-4bf7-a5c5-dfb757756891",
   "metadata": {},
   "outputs": [],
   "source": [
    "import numpy as np\n",
    "import pandas as pd"
   ]
  },
  {
   "cell_type": "code",
   "execution_count": 33,
   "id": "4db89629-1fc0-4185-8059-1e62f850ff85",
   "metadata": {},
   "outputs": [],
   "source": [
    "data = pd.read_csv(\"Sales_Data_Challenges.csv\")"
   ]
  },
  {
   "cell_type": "code",
   "execution_count": 34,
   "id": "996d24f8-d79f-44ef-9725-4a3b90169d94",
   "metadata": {},
   "outputs": [
    {
     "data": {
      "text/html": [
       "<div>\n",
       "<style scoped>\n",
       "    .dataframe tbody tr th:only-of-type {\n",
       "        vertical-align: middle;\n",
       "    }\n",
       "\n",
       "    .dataframe tbody tr th {\n",
       "        vertical-align: top;\n",
       "    }\n",
       "\n",
       "    .dataframe thead th {\n",
       "        text-align: right;\n",
       "    }\n",
       "</style>\n",
       "<table border=\"1\" class=\"dataframe\">\n",
       "  <thead>\n",
       "    <tr style=\"text-align: right;\">\n",
       "      <th></th>\n",
       "      <th>OrderID</th>\n",
       "      <th>Category</th>\n",
       "      <th>City</th>\n",
       "      <th>PaymentMethod</th>\n",
       "      <th>SaleDate</th>\n",
       "      <th>Price</th>\n",
       "      <th>Quantity</th>\n",
       "      <th>Discount</th>\n",
       "      <th>Revenue</th>\n",
       "    </tr>\n",
       "  </thead>\n",
       "  <tbody>\n",
       "    <tr>\n",
       "      <th>0</th>\n",
       "      <td>ORD-7778</td>\n",
       "      <td>Furniture</td>\n",
       "      <td>Houston</td>\n",
       "      <td>Debit Card</td>\n",
       "      <td>2024-06-24</td>\n",
       "      <td>610.101338</td>\n",
       "      <td>1.0</td>\n",
       "      <td>20</td>\n",
       "      <td>488.08</td>\n",
       "    </tr>\n",
       "    <tr>\n",
       "      <th>1</th>\n",
       "      <td>ORD-6791</td>\n",
       "      <td>Furniture</td>\n",
       "      <td>Chicago</td>\n",
       "      <td>NaN</td>\n",
       "      <td>2024-05-02</td>\n",
       "      <td>714.329017</td>\n",
       "      <td>30.0</td>\n",
       "      <td>48</td>\n",
       "      <td>11143.53</td>\n",
       "    </tr>\n",
       "    <tr>\n",
       "      <th>2</th>\n",
       "      <td>ORD-6138</td>\n",
       "      <td>Stationery</td>\n",
       "      <td>New York</td>\n",
       "      <td>Credit Card</td>\n",
       "      <td>2024-01-07</td>\n",
       "      <td>761.840755</td>\n",
       "      <td>46.0</td>\n",
       "      <td>18</td>\n",
       "      <td>28736.63</td>\n",
       "    </tr>\n",
       "    <tr>\n",
       "      <th>3</th>\n",
       "      <td>ORD-8291</td>\n",
       "      <td>Furniture</td>\n",
       "      <td>New York</td>\n",
       "      <td>Credit Card</td>\n",
       "      <td>2024-06-27</td>\n",
       "      <td>564.990275</td>\n",
       "      <td>37.0</td>\n",
       "      <td>18</td>\n",
       "      <td>17141.80</td>\n",
       "    </tr>\n",
       "    <tr>\n",
       "      <th>4</th>\n",
       "      <td>ORD-1314</td>\n",
       "      <td>Appliances</td>\n",
       "      <td>Houston</td>\n",
       "      <td>Credit Card</td>\n",
       "      <td>2024-02-09</td>\n",
       "      <td>771.496793</td>\n",
       "      <td>30.0</td>\n",
       "      <td>11</td>\n",
       "      <td>20598.96</td>\n",
       "    </tr>\n",
       "  </tbody>\n",
       "</table>\n",
       "</div>"
      ],
      "text/plain": [
       "    OrderID    Category      City PaymentMethod    SaleDate       Price  \\\n",
       "0  ORD-7778   Furniture   Houston    Debit Card  2024-06-24  610.101338   \n",
       "1  ORD-6791   Furniture   Chicago           NaN  2024-05-02  714.329017   \n",
       "2  ORD-6138  Stationery  New York   Credit Card  2024-01-07  761.840755   \n",
       "3  ORD-8291   Furniture  New York   Credit Card  2024-06-27  564.990275   \n",
       "4  ORD-1314  Appliances   Houston   Credit Card  2024-02-09  771.496793   \n",
       "\n",
       "   Quantity  Discount   Revenue  \n",
       "0       1.0        20    488.08  \n",
       "1      30.0        48  11143.53  \n",
       "2      46.0        18  28736.63  \n",
       "3      37.0        18  17141.80  \n",
       "4      30.0        11  20598.96  "
      ]
     },
     "execution_count": 34,
     "metadata": {},
     "output_type": "execute_result"
    }
   ],
   "source": [
    "data.head()"
   ]
  },
  {
   "cell_type": "code",
   "execution_count": 35,
   "id": "085f68f0-0e07-43d1-a977-b711ba8034ee",
   "metadata": {},
   "outputs": [
    {
     "data": {
      "text/html": [
       "<div>\n",
       "<style scoped>\n",
       "    .dataframe tbody tr th:only-of-type {\n",
       "        vertical-align: middle;\n",
       "    }\n",
       "\n",
       "    .dataframe tbody tr th {\n",
       "        vertical-align: top;\n",
       "    }\n",
       "\n",
       "    .dataframe thead th {\n",
       "        text-align: right;\n",
       "    }\n",
       "</style>\n",
       "<table border=\"1\" class=\"dataframe\">\n",
       "  <thead>\n",
       "    <tr style=\"text-align: right;\">\n",
       "      <th></th>\n",
       "      <th>OrderID</th>\n",
       "      <th>Category</th>\n",
       "      <th>City</th>\n",
       "      <th>PaymentMethod</th>\n",
       "      <th>SaleDate</th>\n",
       "      <th>Price</th>\n",
       "      <th>Quantity</th>\n",
       "      <th>Discount</th>\n",
       "      <th>Revenue</th>\n",
       "    </tr>\n",
       "  </thead>\n",
       "  <tbody>\n",
       "    <tr>\n",
       "      <th>995</th>\n",
       "      <td>ORD-7036</td>\n",
       "      <td>Appliances</td>\n",
       "      <td>Los Angeles</td>\n",
       "      <td>Online Payment</td>\n",
       "      <td>2024-04-18</td>\n",
       "      <td>622.320119</td>\n",
       "      <td>19.0</td>\n",
       "      <td>32</td>\n",
       "      <td>8040.38</td>\n",
       "    </tr>\n",
       "    <tr>\n",
       "      <th>996</th>\n",
       "      <td>ORD-6235</td>\n",
       "      <td>Furniture</td>\n",
       "      <td>Phoenix</td>\n",
       "      <td>Cash</td>\n",
       "      <td>2024-02-15</td>\n",
       "      <td>428.666656</td>\n",
       "      <td>27.0</td>\n",
       "      <td>48</td>\n",
       "      <td>6018.48</td>\n",
       "    </tr>\n",
       "    <tr>\n",
       "      <th>997</th>\n",
       "      <td>ORD-5199</td>\n",
       "      <td>Furniture</td>\n",
       "      <td>Los Angeles</td>\n",
       "      <td>NaN</td>\n",
       "      <td>2024-01-31</td>\n",
       "      <td>464.527083</td>\n",
       "      <td>15.0</td>\n",
       "      <td>3</td>\n",
       "      <td>6758.87</td>\n",
       "    </tr>\n",
       "    <tr>\n",
       "      <th>998</th>\n",
       "      <td>ORD-3845</td>\n",
       "      <td>Stationery</td>\n",
       "      <td>Los Angeles</td>\n",
       "      <td>Online Payment</td>\n",
       "      <td>2024-01-03</td>\n",
       "      <td>188.563628</td>\n",
       "      <td>50.0</td>\n",
       "      <td>26</td>\n",
       "      <td>6976.85</td>\n",
       "    </tr>\n",
       "    <tr>\n",
       "      <th>999</th>\n",
       "      <td>ORD-3852</td>\n",
       "      <td>Electronics</td>\n",
       "      <td>Los Angeles</td>\n",
       "      <td>Debit Card</td>\n",
       "      <td>2024-01-24</td>\n",
       "      <td>271.243474</td>\n",
       "      <td>32.0</td>\n",
       "      <td>9</td>\n",
       "      <td>7898.61</td>\n",
       "    </tr>\n",
       "  </tbody>\n",
       "</table>\n",
       "</div>"
      ],
      "text/plain": [
       "      OrderID     Category         City   PaymentMethod    SaleDate  \\\n",
       "995  ORD-7036   Appliances  Los Angeles  Online Payment  2024-04-18   \n",
       "996  ORD-6235    Furniture      Phoenix            Cash  2024-02-15   \n",
       "997  ORD-5199    Furniture  Los Angeles             NaN  2024-01-31   \n",
       "998  ORD-3845   Stationery  Los Angeles  Online Payment  2024-01-03   \n",
       "999  ORD-3852  Electronics  Los Angeles      Debit Card  2024-01-24   \n",
       "\n",
       "          Price  Quantity  Discount  Revenue  \n",
       "995  622.320119      19.0        32  8040.38  \n",
       "996  428.666656      27.0        48  6018.48  \n",
       "997  464.527083      15.0         3  6758.87  \n",
       "998  188.563628      50.0        26  6976.85  \n",
       "999  271.243474      32.0         9  7898.61  "
      ]
     },
     "execution_count": 35,
     "metadata": {},
     "output_type": "execute_result"
    }
   ],
   "source": [
    "data.tail()"
   ]
  },
  {
   "cell_type": "code",
   "execution_count": 36,
   "id": "3c491be6-7fbf-4585-ac7c-dc86d1126a8f",
   "metadata": {},
   "outputs": [
    {
     "data": {
      "text/plain": [
       "(1000, 9)"
      ]
     },
     "execution_count": 36,
     "metadata": {},
     "output_type": "execute_result"
    }
   ],
   "source": [
    "data.shape"
   ]
  },
  {
   "cell_type": "code",
   "execution_count": 37,
   "id": "4c7fcda0-5273-452e-9af7-ead22e5ff770",
   "metadata": {},
   "outputs": [
    {
     "name": "stdout",
     "output_type": "stream",
     "text": [
      "<class 'pandas.core.frame.DataFrame'>\n",
      "RangeIndex: 1000 entries, 0 to 999\n",
      "Data columns (total 9 columns):\n",
      " #   Column         Non-Null Count  Dtype  \n",
      "---  ------         --------------  -----  \n",
      " 0   OrderID        1000 non-null   object \n",
      " 1   Category       1000 non-null   object \n",
      " 2   City           1000 non-null   object \n",
      " 3   PaymentMethod  782 non-null    object \n",
      " 4   SaleDate       902 non-null    object \n",
      " 5   Price          961 non-null    float64\n",
      " 6   Quantity       951 non-null    float64\n",
      " 7   Discount       1000 non-null   int64  \n",
      " 8   Revenue        915 non-null    float64\n",
      "dtypes: float64(3), int64(1), object(5)\n",
      "memory usage: 70.4+ KB\n"
     ]
    }
   ],
   "source": [
    "data.info()"
   ]
  },
  {
   "cell_type": "code",
   "execution_count": 38,
   "id": "21e29a71-f347-4567-b8c1-6dc6fc24b071",
   "metadata": {},
   "outputs": [
    {
     "data": {
      "text/plain": [
       "OrderID            0\n",
       "Category           0\n",
       "City               0\n",
       "PaymentMethod    218\n",
       "SaleDate          98\n",
       "Price             39\n",
       "Quantity          49\n",
       "Discount           0\n",
       "Revenue           85\n",
       "dtype: int64"
      ]
     },
     "execution_count": 38,
     "metadata": {},
     "output_type": "execute_result"
    }
   ],
   "source": [
    "data.isnull().sum()"
   ]
  },
  {
   "cell_type": "code",
   "execution_count": 39,
   "id": "3c4e963c-556b-4784-a0d8-3aa06b0141f2",
   "metadata": {},
   "outputs": [
    {
     "data": {
      "text/plain": [
       "OrderID           0.0\n",
       "Category          0.0\n",
       "City              0.0\n",
       "PaymentMethod    21.8\n",
       "SaleDate          9.8\n",
       "Price             3.9\n",
       "Quantity          4.9\n",
       "Discount          0.0\n",
       "Revenue           8.5\n",
       "dtype: float64"
      ]
     },
     "execution_count": 39,
     "metadata": {},
     "output_type": "execute_result"
    }
   ],
   "source": [
    "(data.isnull().sum()/(len(data)))*100"
   ]
  },
  {
   "cell_type": "code",
   "execution_count": 40,
   "id": "ed87096d-2c33-4776-971a-34f8e8fcf1cc",
   "metadata": {},
   "outputs": [
    {
     "data": {
      "text/plain": [
       "0"
      ]
     },
     "execution_count": 40,
     "metadata": {},
     "output_type": "execute_result"
    }
   ],
   "source": [
    "data.fillna({\"PaymentMethod\":\"Unknown\"}, inplace=True)\n",
    "data[\"PaymentMethod\"].isnull().sum()"
   ]
  },
  {
   "cell_type": "code",
   "execution_count": 41,
   "id": "d2afe56b-9332-4e69-b3cc-7b3bb8bf6db5",
   "metadata": {},
   "outputs": [
    {
     "data": {
      "text/plain": [
       "0"
      ]
     },
     "execution_count": 41,
     "metadata": {},
     "output_type": "execute_result"
    }
   ],
   "source": [
    "data = data.dropna(subset=['SaleDate'])\n",
    "data[\"SaleDate\"].isnull().sum()"
   ]
  },
  {
   "cell_type": "code",
   "execution_count": 44,
   "id": "48b52240-889e-42d1-9c95-19a46fa41b65",
   "metadata": {},
   "outputs": [
    {
     "data": {
      "text/plain": [
       "0"
      ]
     },
     "execution_count": 44,
     "metadata": {},
     "output_type": "execute_result"
    }
   ],
   "source": [
    "data.fillna({\"Price\":data[\"Price\"].median()}, inplace=True)\n",
    "data[\"Price\"].isnull().sum()"
   ]
  },
  {
   "cell_type": "code",
   "execution_count": 45,
   "id": "1e9f2cfe-ce12-4e4e-9b16-f082d232628a",
   "metadata": {},
   "outputs": [
    {
     "data": {
      "text/plain": [
       "0"
      ]
     },
     "execution_count": 45,
     "metadata": {},
     "output_type": "execute_result"
    }
   ],
   "source": [
    "data.fillna({\"Quantity\":data[\"Quantity\"].median()}, inplace=True)\n",
    "data[\"Quantity\"].isnull().sum()"
   ]
  },
  {
   "cell_type": "code",
   "execution_count": 46,
   "id": "b552929f-3b6b-4381-9de3-290c8e54cf83",
   "metadata": {},
   "outputs": [
    {
     "data": {
      "text/plain": [
       "0"
      ]
     },
     "execution_count": 46,
     "metadata": {},
     "output_type": "execute_result"
    }
   ],
   "source": [
    "data[\"Revenue\"] = np.where(data[\"Revenue\"].isnull(), data[\"Price\"] * data[\"Quantity\"] - data[\"Discount\"], data['Revenue'])\n",
    "data[\"Quantity\"].isnull().sum()"
   ]
  },
  {
   "cell_type": "code",
   "execution_count": 47,
   "id": "87b50060-e12c-40b7-83e7-ad4fa90046f9",
   "metadata": {},
   "outputs": [
    {
     "data": {
      "text/plain": [
       "(902, 9)"
      ]
     },
     "execution_count": 47,
     "metadata": {},
     "output_type": "execute_result"
    }
   ],
   "source": [
    "data.shape"
   ]
  },
  {
   "cell_type": "code",
   "execution_count": 48,
   "id": "552b8538-a70d-437e-aa43-463c9dd4de98",
   "metadata": {},
   "outputs": [
    {
     "data": {
      "text/plain": [
       "OrderID          0\n",
       "Category         0\n",
       "City             0\n",
       "PaymentMethod    0\n",
       "SaleDate         0\n",
       "Price            0\n",
       "Quantity         0\n",
       "Discount         0\n",
       "Revenue          0\n",
       "dtype: int64"
      ]
     },
     "execution_count": 48,
     "metadata": {},
     "output_type": "execute_result"
    }
   ],
   "source": [
    "data.isnull().sum()"
   ]
  },
  {
   "cell_type": "code",
   "execution_count": 50,
   "id": "4a211e75-c540-48cd-94da-0453b250b8b9",
   "metadata": {},
   "outputs": [
    {
     "data": {
      "text/plain": [
       "0"
      ]
     },
     "execution_count": 50,
     "metadata": {},
     "output_type": "execute_result"
    }
   ],
   "source": [
    "data.duplicated().sum()"
   ]
  },
  {
   "cell_type": "code",
   "execution_count": 51,
   "id": "b2fd6853-e545-48ca-8734-e37964917e94",
   "metadata": {},
   "outputs": [
    {
     "data": {
      "text/html": [
       "<div>\n",
       "<style scoped>\n",
       "    .dataframe tbody tr th:only-of-type {\n",
       "        vertical-align: middle;\n",
       "    }\n",
       "\n",
       "    .dataframe tbody tr th {\n",
       "        vertical-align: top;\n",
       "    }\n",
       "\n",
       "    .dataframe thead th {\n",
       "        text-align: right;\n",
       "    }\n",
       "</style>\n",
       "<table border=\"1\" class=\"dataframe\">\n",
       "  <thead>\n",
       "    <tr style=\"text-align: right;\">\n",
       "      <th></th>\n",
       "      <th>OrderID</th>\n",
       "      <th>Category</th>\n",
       "      <th>City</th>\n",
       "      <th>PaymentMethod</th>\n",
       "      <th>SaleDate</th>\n",
       "      <th>Price</th>\n",
       "      <th>Quantity</th>\n",
       "      <th>Discount</th>\n",
       "      <th>Revenue</th>\n",
       "    </tr>\n",
       "  </thead>\n",
       "  <tbody>\n",
       "    <tr>\n",
       "      <th>count</th>\n",
       "      <td>902</td>\n",
       "      <td>902</td>\n",
       "      <td>902</td>\n",
       "      <td>902</td>\n",
       "      <td>902</td>\n",
       "      <td>902.000000</td>\n",
       "      <td>902.000000</td>\n",
       "      <td>902.000000</td>\n",
       "      <td>902.000000</td>\n",
       "    </tr>\n",
       "    <tr>\n",
       "      <th>unique</th>\n",
       "      <td>857</td>\n",
       "      <td>5</td>\n",
       "      <td>5</td>\n",
       "      <td>5</td>\n",
       "      <td>181</td>\n",
       "      <td>NaN</td>\n",
       "      <td>NaN</td>\n",
       "      <td>NaN</td>\n",
       "      <td>NaN</td>\n",
       "    </tr>\n",
       "    <tr>\n",
       "      <th>top</th>\n",
       "      <td>ORD-9683</td>\n",
       "      <td>Appliances</td>\n",
       "      <td>Los Angeles</td>\n",
       "      <td>Unknown</td>\n",
       "      <td>2024-01-03</td>\n",
       "      <td>NaN</td>\n",
       "      <td>NaN</td>\n",
       "      <td>NaN</td>\n",
       "      <td>NaN</td>\n",
       "    </tr>\n",
       "    <tr>\n",
       "      <th>freq</th>\n",
       "      <td>3</td>\n",
       "      <td>193</td>\n",
       "      <td>196</td>\n",
       "      <td>199</td>\n",
       "      <td>13</td>\n",
       "      <td>NaN</td>\n",
       "      <td>NaN</td>\n",
       "      <td>NaN</td>\n",
       "      <td>NaN</td>\n",
       "    </tr>\n",
       "    <tr>\n",
       "      <th>mean</th>\n",
       "      <td>NaN</td>\n",
       "      <td>NaN</td>\n",
       "      <td>NaN</td>\n",
       "      <td>NaN</td>\n",
       "      <td>NaN</td>\n",
       "      <td>499.312502</td>\n",
       "      <td>21.924612</td>\n",
       "      <td>24.453437</td>\n",
       "      <td>8530.564356</td>\n",
       "    </tr>\n",
       "    <tr>\n",
       "      <th>std</th>\n",
       "      <td>NaN</td>\n",
       "      <td>NaN</td>\n",
       "      <td>NaN</td>\n",
       "      <td>NaN</td>\n",
       "      <td>NaN</td>\n",
       "      <td>282.507748</td>\n",
       "      <td>17.910087</td>\n",
       "      <td>14.323345</td>\n",
       "      <td>9252.341542</td>\n",
       "    </tr>\n",
       "    <tr>\n",
       "      <th>min</th>\n",
       "      <td>NaN</td>\n",
       "      <td>NaN</td>\n",
       "      <td>NaN</td>\n",
       "      <td>NaN</td>\n",
       "      <td>NaN</td>\n",
       "      <td>10.472502</td>\n",
       "      <td>-49.000000</td>\n",
       "      <td>0.000000</td>\n",
       "      <td>-39277.820000</td>\n",
       "    </tr>\n",
       "    <tr>\n",
       "      <th>25%</th>\n",
       "      <td>NaN</td>\n",
       "      <td>NaN</td>\n",
       "      <td>NaN</td>\n",
       "      <td>NaN</td>\n",
       "      <td>NaN</td>\n",
       "      <td>267.933299</td>\n",
       "      <td>11.000000</td>\n",
       "      <td>12.000000</td>\n",
       "      <td>2011.842037</td>\n",
       "    </tr>\n",
       "    <tr>\n",
       "      <th>50%</th>\n",
       "      <td>NaN</td>\n",
       "      <td>NaN</td>\n",
       "      <td>NaN</td>\n",
       "      <td>NaN</td>\n",
       "      <td>NaN</td>\n",
       "      <td>492.379822</td>\n",
       "      <td>23.000000</td>\n",
       "      <td>25.000000</td>\n",
       "      <td>6367.437346</td>\n",
       "    </tr>\n",
       "    <tr>\n",
       "      <th>75%</th>\n",
       "      <td>NaN</td>\n",
       "      <td>NaN</td>\n",
       "      <td>NaN</td>\n",
       "      <td>NaN</td>\n",
       "      <td>NaN</td>\n",
       "      <td>758.856892</td>\n",
       "      <td>36.000000</td>\n",
       "      <td>36.000000</td>\n",
       "      <td>13281.353797</td>\n",
       "    </tr>\n",
       "    <tr>\n",
       "      <th>max</th>\n",
       "      <td>NaN</td>\n",
       "      <td>NaN</td>\n",
       "      <td>NaN</td>\n",
       "      <td>NaN</td>\n",
       "      <td>NaN</td>\n",
       "      <td>999.587843</td>\n",
       "      <td>50.000000</td>\n",
       "      <td>50.000000</td>\n",
       "      <td>43775.500000</td>\n",
       "    </tr>\n",
       "  </tbody>\n",
       "</table>\n",
       "</div>"
      ],
      "text/plain": [
       "         OrderID    Category         City PaymentMethod    SaleDate  \\\n",
       "count        902         902          902           902         902   \n",
       "unique       857           5            5             5         181   \n",
       "top     ORD-9683  Appliances  Los Angeles       Unknown  2024-01-03   \n",
       "freq           3         193          196           199          13   \n",
       "mean         NaN         NaN          NaN           NaN         NaN   \n",
       "std          NaN         NaN          NaN           NaN         NaN   \n",
       "min          NaN         NaN          NaN           NaN         NaN   \n",
       "25%          NaN         NaN          NaN           NaN         NaN   \n",
       "50%          NaN         NaN          NaN           NaN         NaN   \n",
       "75%          NaN         NaN          NaN           NaN         NaN   \n",
       "max          NaN         NaN          NaN           NaN         NaN   \n",
       "\n",
       "             Price    Quantity    Discount       Revenue  \n",
       "count   902.000000  902.000000  902.000000    902.000000  \n",
       "unique         NaN         NaN         NaN           NaN  \n",
       "top            NaN         NaN         NaN           NaN  \n",
       "freq           NaN         NaN         NaN           NaN  \n",
       "mean    499.312502   21.924612   24.453437   8530.564356  \n",
       "std     282.507748   17.910087   14.323345   9252.341542  \n",
       "min      10.472502  -49.000000    0.000000 -39277.820000  \n",
       "25%     267.933299   11.000000   12.000000   2011.842037  \n",
       "50%     492.379822   23.000000   25.000000   6367.437346  \n",
       "75%     758.856892   36.000000   36.000000  13281.353797  \n",
       "max     999.587843   50.000000   50.000000  43775.500000  "
      ]
     },
     "execution_count": 51,
     "metadata": {},
     "output_type": "execute_result"
    }
   ],
   "source": [
    "data.describe(include=\"all\")"
   ]
  },
  {
   "cell_type": "code",
   "execution_count": 54,
   "id": "6e84ec0e-f2f9-4ed2-9fcd-93fdf79f3b7b",
   "metadata": {},
   "outputs": [],
   "source": [
    "data.to_csv(\"Processed_Data.csv\",index=False)"
   ]
  },
  {
   "cell_type": "code",
   "execution_count": null,
   "id": "2997cf84-cbb2-4ee9-b445-e547939dcf22",
   "metadata": {},
   "outputs": [],
   "source": []
  }
 ],
 "metadata": {
  "kernelspec": {
   "display_name": "Python 3 (ipykernel)",
   "language": "python",
   "name": "python3"
  },
  "language_info": {
   "codemirror_mode": {
    "name": "ipython",
    "version": 3
   },
   "file_extension": ".py",
   "mimetype": "text/x-python",
   "name": "python",
   "nbconvert_exporter": "python",
   "pygments_lexer": "ipython3",
   "version": "3.12.2"
  }
 },
 "nbformat": 4,
 "nbformat_minor": 5
}
